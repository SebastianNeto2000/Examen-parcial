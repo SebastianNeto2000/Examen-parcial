{
 "cells": [
  {
   "cell_type": "markdown",
   "id": "11103606",
   "metadata": {},
   "source": [
    "# ***LIBRO CON DATOS BÁSICOS***"
   ]
  },
  {
   "cell_type": "markdown",
   "id": "d70ded28",
   "metadata": {},
   "source": [
    "## PRIMER PROGRAMA"
   ]
  },
  {
   "cell_type": "code",
   "execution_count": 1,
   "id": "aa951d70",
   "metadata": {},
   "outputs": [
    {
     "name": "stdout",
     "output_type": "stream",
     "text": [
      "Hola mundo\n"
     ]
    }
   ],
   "source": [
    "# Ejemplo de imprimir texto:\n",
    "print(\"Hola mundo\")"
   ]
  },
  {
   "cell_type": "markdown",
   "id": "bca47cff",
   "metadata": {},
   "source": [
    "## SEGUNDO PROGRAMA"
   ]
  },
  {
   "cell_type": "code",
   "execution_count": 2,
   "id": "96151aeb",
   "metadata": {},
   "outputs": [
    {
     "name": "stdout",
     "output_type": "stream",
     "text": [
      "El resultado de multiplicar x*y es:  12\n"
     ]
    }
   ],
   "source": [
    "# Ejemplo operaciones simples:\n",
    "x = 3\n",
    "y = 4\n",
    "z = x*y #Siempre se debe definir todas las variables antes de hacer una operacion\n",
    "print(\"El resultado de multiplicar x*y es: \", z)"
   ]
  },
  {
   "cell_type": "markdown",
   "id": "35501d4d",
   "metadata": {},
   "source": [
    "## TERCER PROGRAMA"
   ]
  },
  {
   "cell_type": "code",
   "execution_count": 3,
   "id": "cd831537",
   "metadata": {},
   "outputs": [],
   "source": [
    "# Ejemplo llamar librerías:\n",
    "\n",
    "import numpy as np\n",
    "import matplotlib.pyplot as plt"
   ]
  },
  {
   "cell_type": "markdown",
   "id": "c6ae9f42",
   "metadata": {},
   "source": [
    "## CUARTO PROGRAMA"
   ]
  },
  {
   "cell_type": "code",
   "execution_count": 4,
   "id": "8875fc94",
   "metadata": {},
   "outputs": [
    {
     "name": "stdout",
     "output_type": "stream",
     "text": [
      "10\n",
      "Fin\n"
     ]
    }
   ],
   "source": [
    "# Ejemplo script con if-else:\n",
    "\n",
    "i = 5\n",
    "x = 2*i\n",
    "if x <= 10:\n",
    "    print (x)\n",
    "else:\n",
    "    print (\"el valor de y es: \" , y)\n",
    "\n",
    "print (\"Fin\")"
   ]
  },
  {
   "cell_type": "markdown",
   "id": "6d160c30",
   "metadata": {},
   "source": [
    "## QUINTO PROGRAMA"
   ]
  },
  {
   "cell_type": "code",
   "execution_count": 5,
   "id": "40f1f7e2",
   "metadata": {},
   "outputs": [
    {
     "name": "stdout",
     "output_type": "stream",
     "text": [
      "el resultado de la divisón entera es:  1\n",
      "el resultado de la divisón normal es:  1.5\n"
     ]
    }
   ],
   "source": [
    "# ejemplo de // para división exacta: \n",
    "v = 3//2\n",
    "print(\"el resultado de la divisón entera es: \", v)\n",
    "# ejemplo de / para división normal:\n",
    "w = 3/2\n",
    "print(\"el resultado de la divisón normal es: \", w)"
   ]
  },
  {
   "cell_type": "markdown",
   "id": "0b5f35bc",
   "metadata": {},
   "source": [
    "## SEXTO PROGRAMA "
   ]
  },
  {
   "cell_type": "code",
   "execution_count": 6,
   "id": "24543286",
   "metadata": {},
   "outputs": [
    {
     "name": "stdout",
     "output_type": "stream",
     "text": [
      "log(a)= 1.041392685158225\n"
     ]
    }
   ],
   "source": [
    "# Logaritmo necesita llamar a la librería mat y nombrarla para luego poder usarlo\n",
    "\n",
    "import math as mt\n",
    "\n",
    "a = 11\n",
    "b = 5\n",
    "\n",
    "print(\"log(a)=\", mt.log(a, 10)) # Al utilizar comandos de libreria debe ponerse nombre.comando, en este ejemplo: mt.log"
   ]
  },
  {
   "cell_type": "markdown",
   "id": "4e87addc",
   "metadata": {},
   "source": [
    "## SEPTIMO PROGRAMA"
   ]
  },
  {
   "cell_type": "code",
   "execution_count": 7,
   "id": "11c5007a",
   "metadata": {},
   "outputs": [
    {
     "name": "stdout",
     "output_type": "stream",
     "text": [
      "No somos números somos texto: yo(B)soy el texto: 1, y yo (C) soy el texto: 2.5\n"
     ]
    }
   ],
   "source": [
    "# Asignar objeto de tipo texto a una variable:\n",
    "A = \"No somos números somos texto:\"\n",
    "B = \"1\" # B contiene el texto 1, no el número 1\n",
    "C = \"2.5\" # C contiene el texto 2.5, no el número 2.5\n",
    "\n",
    "print(A, \"yo(B)soy el texto:\", B+\",\", \"y yo (C) soy el texto:\",C)"
   ]
  },
  {
   "cell_type": "markdown",
   "id": "0f017c9c",
   "metadata": {},
   "source": [
    "## OCTAVO PROGRAMA"
   ]
  },
  {
   "cell_type": "code",
   "execution_count": 8,
   "id": "1bb16e56",
   "metadata": {},
   "outputs": [
    {
     "name": "stdout",
     "output_type": "stream",
     "text": [
      "<class 'str'>\n"
     ]
    },
    {
     "data": {
      "text/plain": [
       "str"
      ]
     },
     "execution_count": 8,
     "metadata": {},
     "output_type": "execute_result"
    }
   ],
   "source": [
    "# Ver un tipo de variable\n",
    "\n",
    "B = \"1\" # B contiene el texto 1, no el número 1\n",
    "C = \"2.5\" # C contiene el texto 2.5, no el número 2.5\n",
    "\n",
    "print(type(A)) # se pone print para que se imprima, si no se pusiera solo se ejecutara (type(B))\n",
    "type(B)"
   ]
  },
  {
   "cell_type": "markdown",
   "id": "0269aef3",
   "metadata": {},
   "source": [
    "## NOVENO PROGRAMA"
   ]
  },
  {
   "cell_type": "code",
   "execution_count": 9,
   "id": "890dbbc6",
   "metadata": {},
   "outputs": [
    {
     "name": "stdout",
     "output_type": "stream",
     "text": [
      "Este es un texto \"especial\"\n"
     ]
    }
   ],
   "source": [
    "# Poner comillas en un texto\n",
    "print('Este es un texto \"especial\"')# se usan comillas simples"
   ]
  },
  {
   "cell_type": "markdown",
   "id": "95eab6aa",
   "metadata": {},
   "source": [
    "## DECIMO PROGRAMA"
   ]
  },
  {
   "cell_type": "code",
   "execution_count": 10,
   "id": "babacd5e",
   "metadata": {},
   "outputs": [
    {
     "name": "stdout",
     "output_type": "stream",
     "text": [
      "8.75\n",
      "0\n"
     ]
    }
   ],
   "source": [
    "# Cambiar tipo de variable\n",
    "A = \"-1\"\n",
    "B = \"1\" # B contiene el texto 1, no el número 1\n",
    "C = \"2.5\" # C contiene el texto -2.5, no el número 2.5\n",
    "D = int(B) # int identifica un valor entero\n",
    "E = float(C) # float identifica reales\n",
    "F = int(A)\n",
    "print((D+E)*E)\n",
    "print(F+D)"
   ]
  },
  {
   "cell_type": "markdown",
   "id": "c71b7863",
   "metadata": {},
   "source": [
    "## UNDECIMO: <br> *ALGUNAS FUNCIONES PRECARGADAS*"
   ]
  },
  {
   "cell_type": "code",
   "execution_count": 11,
   "id": "b56493e2",
   "metadata": {},
   "outputs": [
    {
     "data": {
      "text/plain": [
       "100"
      ]
     },
     "execution_count": 11,
     "metadata": {},
     "output_type": "execute_result"
    }
   ],
   "source": [
    "# Valor absoluto:\n",
    "abs(-100) "
   ]
  },
  {
   "cell_type": "code",
   "execution_count": 12,
   "id": "6583bcc1",
   "metadata": {},
   "outputs": [
    {
     "data": {
      "text/plain": [
       "1000"
      ]
     },
     "execution_count": 12,
     "metadata": {},
     "output_type": "execute_result"
    }
   ],
   "source": [
    "# potenciación, ejemplo 10^3:\n",
    "pow(10,3)"
   ]
  },
  {
   "cell_type": "code",
   "execution_count": 13,
   "id": "1faf8944",
   "metadata": {},
   "outputs": [
    {
     "data": {
      "text/plain": [
       "3.1416"
      ]
     },
     "execution_count": 13,
     "metadata": {},
     "output_type": "execute_result"
    }
   ],
   "source": [
    "# Redondear un numero, ejemplo redondear 3,14159 al cuarto decimal\n",
    "round(3.14159, 4) # los decimales se escriben con punto no con coma"
   ]
  },
  {
   "cell_type": "code",
   "execution_count": 14,
   "id": "552f8076",
   "metadata": {},
   "outputs": [
    {
     "data": {
      "text/plain": [
       "14"
      ]
     },
     "execution_count": 14,
     "metadata": {},
     "output_type": "execute_result"
    }
   ],
   "source": [
    "# Longitud de un texto:\n",
    "Nombre = \"Sebastian Neto\"\n",
    "len(Nombre)# len toma en cuenta los espacios"
   ]
  },
  {
   "cell_type": "code",
   "execution_count": 15,
   "id": "b9ad9e63",
   "metadata": {},
   "outputs": [],
   "source": [
    "seq_corta = \"ATAGCCATGATCAATGA\""
   ]
  },
  {
   "cell_type": "code",
   "execution_count": 16,
   "id": "e242e92c",
   "metadata": {},
   "outputs": [
    {
     "data": {
      "text/plain": [
       "'Atagccatgatcaatga'"
      ]
     },
     "execution_count": 16,
     "metadata": {},
     "output_type": "execute_result"
    }
   ],
   "source": [
    "# Poner texto con letra inicial capital\n",
    "seq_corta.capitalize()"
   ]
  },
  {
   "cell_type": "code",
   "execution_count": 17,
   "id": "a0263d55",
   "metadata": {},
   "outputs": [
    {
     "data": {
      "text/plain": [
       "'atagccatgatcaatga'"
      ]
     },
     "execution_count": 17,
     "metadata": {},
     "output_type": "execute_result"
    }
   ],
   "source": [
    "# Poner texto en minusculas\n",
    "seq_corta.casefold()"
   ]
  },
  {
   "cell_type": "code",
   "execution_count": 18,
   "id": "7b463a1a",
   "metadata": {},
   "outputs": [
    {
     "data": {
      "text/plain": [
       "'ATAGCCATGATCAATGA'"
      ]
     },
     "execution_count": 18,
     "metadata": {},
     "output_type": "execute_result"
    }
   ],
   "source": [
    "# Poner texto en mayusculas\n",
    "seq_corta.upper()"
   ]
  },
  {
   "cell_type": "code",
   "execution_count": 19,
   "id": "49115df5",
   "metadata": {},
   "outputs": [
    {
     "data": {
      "text/plain": [
       "'TTTGCCTTGTTCTTTGT'"
      ]
     },
     "execution_count": 19,
     "metadata": {},
     "output_type": "execute_result"
    }
   ],
   "source": [
    "# Reemplazar caracter\n",
    "seq_corta.replace(\"A\",\"T\")"
   ]
  },
  {
   "cell_type": "code",
   "execution_count": 20,
   "id": "c6647e5a",
   "metadata": {},
   "outputs": [
    {
     "name": "stdout",
     "output_type": "stream",
     "text": [
      "la posición en la que usted puede encontrar la Timina en la cadena seq_corta es:  1\n"
     ]
    }
   ],
   "source": [
    "# Buscar la posición de un caracter en un texto con la función find\n",
    "k = seq_corta.find(\"T\") # Python inicia a contar en 0 (la primera posición en un texto es la posición 0)\n",
    "print(\"la posición en la que usted puede encontrar la Timina en la cadena seq_corta es: \", k)"
   ]
  },
  {
   "cell_type": "code",
   "execution_count": 21,
   "id": "7b8d771e",
   "metadata": {},
   "outputs": [
    {
     "data": {
      "text/plain": [
       "'ATA'"
      ]
     },
     "execution_count": 21,
     "metadata": {},
     "output_type": "execute_result"
    }
   ],
   "source": [
    "# Cnocoer el contenido que hay en diferentes posiciones de una variable\n",
    "seq_corta[0:3] # Va a delvolver los elementos de seq_corta de las posiciones 0, 1, y 2; el 3 solo delimita"
   ]
  },
  {
   "cell_type": "code",
   "execution_count": 22,
   "id": "ab2736ab",
   "metadata": {},
   "outputs": [
    {
     "data": {
      "text/plain": [
       "3"
      ]
     },
     "execution_count": 22,
     "metadata": {},
     "output_type": "execute_result"
    }
   ],
   "source": [
    "# Contar cuantos caracteres de 1 tipo hay en una variable\n",
    "seq_corta.count(\"G\") # Contará cuantas G hay en seq_corta"
   ]
  },
  {
   "cell_type": "code",
   "execution_count": 23,
   "id": "d7cd6b97",
   "metadata": {},
   "outputs": [
    {
     "data": {
      "text/plain": [
       "['homo', 'sapiens']"
      ]
     },
     "execution_count": 23,
     "metadata": {},
     "output_type": "execute_result"
    }
   ],
   "source": [
    "# Separar un texto usando un delimitador Ejemplo 1:\n",
    "especie = \"homo sapiens\"\n",
    "especie.split(\" \") # separa por un delimitador que es puesto dentro de las comillas del split"
   ]
  },
  {
   "cell_type": "code",
   "execution_count": 24,
   "id": "82a8b19f",
   "metadata": {},
   "outputs": [
    {
     "data": {
      "text/plain": [
       "['1', '2', '3', '4']"
      ]
     },
     "execution_count": 24,
     "metadata": {},
     "output_type": "execute_result"
    }
   ],
   "source": [
    "# Separar un texto usando un delimitador Ejemplo 2:\n",
    "especie = \"1, 2, 3, 4\"\n",
    "especie.split(\", \") # separa por un delimitador que es puesto dentro de las comillas del split"
   ]
  },
  {
   "cell_type": "code",
   "execution_count": 25,
   "id": "ab67f1f6",
   "metadata": {},
   "outputs": [
    {
     "data": {
      "text/plain": [
       "['Tres ', 'ris', 'es ', 'igres ', 'rigan ', 'rigo en un ', 'rigal']"
      ]
     },
     "execution_count": 25,
     "metadata": {},
     "output_type": "execute_result"
    }
   ],
   "source": [
    "# Separar un texto usando un delimitador Ejemplo 3:\n",
    "especie = \"Tres tristes tigres trigan trigo en un trigal\"\n",
    "especie.split(\"t\") # el separador t distingue mayusculas de minusculas"
   ]
  },
  {
   "cell_type": "code",
   "execution_count": 26,
   "id": "d946d497",
   "metadata": {},
   "outputs": [
    {
     "name": "stdout",
     "output_type": "stream",
     "text": [
      "resultado de nombre_cientifico1:  Komagataeibacterxylinus\n",
      "resultado de nombre_cientifico2:  Komagataeibacter xylinus\n",
      "resultado de nombre_cientifico3:  Komagataeibacter, xylinus\n"
     ]
    }
   ],
   "source": [
    "# Concatenacion - usa el signo +:\n",
    "genero = \"Komagataeibacter\" \n",
    "especie = \"xylinus\"\n",
    "\n",
    "nombre_cientifico1 = genero + especie\n",
    "nombre_cientifico2 = genero + \" \" + especie \n",
    "nombre_cientifico3 = genero+ \",\" + \" \" + especie\n",
    "print(\"resultado de nombre_cientifico1: \", nombre_cientifico1)\n",
    "print(\"resultado de nombre_cientifico2: \", nombre_cientifico2)\n",
    "print(\"resultado de nombre_cientifico3: \", nombre_cientifico3)\n"
   ]
  },
  {
   "cell_type": "code",
   "execution_count": 27,
   "id": "5c81d11d",
   "metadata": {},
   "outputs": [
    {
     "name": "stdout",
     "output_type": "stream",
     "text": [
      "['Saccharomyces', 'cerevisiae']\n"
     ]
    },
    {
     "data": {
      "text/plain": [
       "'Saccharomyces cerevisiae'"
      ]
     },
     "execution_count": 27,
     "metadata": {},
     "output_type": "execute_result"
    }
   ],
   "source": [
    "# juntar elementos con un separador definido entre comilla (\"aqui_añadir_eparador\".eemento)\n",
    "Yest_cientific_name = [\"Saccharomyces\", \"cerevisiae\"]\n",
    "print(Yest_cientific_name) # Asi se ve sin unir\n",
    "\" \".join(Yest_cientific_name) # con este comando se une"
   ]
  },
  {
   "cell_type": "code",
   "execution_count": 11,
   "id": "bf06fda3",
   "metadata": {},
   "outputs": [
    {
     "name": "stdout",
     "output_type": "stream",
     "text": [
      "l1 [1, 2, 3, 4]\n",
      "l2 ['1', '2', 3, 'texto']\n",
      "l1[:] [1, 2, 3, 4]\n",
      "l1[0:] [1, 2, 3, 4]\n",
      "l1[:3] [1, 2, 3]\n",
      "l1[1:3] [2, 3]\n",
      "l1[0] = \"a\" ['a', 2, 3, 4]\n",
      "append ['a', 2, 3, 4, 'hola']\n",
      "append2 ['a', 2, 3, 4, 'hola', [1, 2, 3, 'cinco']]\n",
      "insert ['a', 'Chao', 2, 3, 4, 'hola', [1, 2, 3, 'cinco']]\n",
      "extend ['a', 'Chao', 2, 3, 4, 'hola', [1, 2, 3, 'cinco'], 'w', 'x', 'y', 'z']\n",
      "remove1 ['a', 'Chao', 2, 3, 4, 'hola', 'w', 'x', 'y', 'z']\n",
      "remove2 ['Chao', 2, 3, 4, 'hola', 'w', 'x', 'y', 'z']\n",
      "del [2, 3, 4, 'hola', 'w', 'x', 'y', 'z']\n",
      "l2 ['1', '2', 3, 'texto']\n",
      "l3 [32, 50]\n",
      "haciendo l4 = l3 + l2\n",
      "l4 [32, 50, '1', '2', 3, 'texto']\n",
      "[32, 50, '1', '2', 3, 'texto']\n"
     ]
    },
    {
     "data": {
      "text/plain": [
       "6"
      ]
     },
     "execution_count": 11,
     "metadata": {},
     "output_type": "execute_result"
    }
   ],
   "source": [
    "# ESTRUCTURAS DE DATOS\n",
    "\n",
    "# LISTAS: Estructuras donde colocas secuencias de objetos siempre se separan por comas\n",
    "\n",
    "l1 = [1, 2, 3, 4]\n",
    "l2 = [\"1\", \"2\", 3, \"texto\"] #las comillas indican textos\n",
    "\n",
    "print (\"l1\", l1)\n",
    "print (\"l2\", l2)\n",
    "\n",
    "#formas de acceder a los elementos de una lista:\n",
    "\n",
    "print(\"l1[:]\", l1[:]) # devuelve todos los elementos\n",
    "print(\"l1[0:]\", l1[0:])# devuelve los elementos desde la posición indicada en adelante tomando en cuenta el límite inferior\n",
    "print(\"l1[:3]\", l1[:3])# devuelve los elementos desde la posición 0 hasta un número menos del límite superior\n",
    "print(\"l1[1:3]\",l1[1:3])# devuele datos desde la posición inicial indicada hasta la posición anterior al límite superior\n",
    "\n",
    "# Reemplazar datos en listas\n",
    "\n",
    "l1[0] = \"a\" # cambiamos el elememento de la posición 0 de l1 por la letra a\n",
    "print('l1[0] = \"a\"', l1)\n",
    "\n",
    "# Ver si un elemento existe en una lista\n",
    "\n",
    "2 in l1 #dice si es verdad o falso que el elemento 2 está en l1\n",
    "\n",
    "# AÑADIR ELEMENTOS A UNA LISTA: append, insert y extend\n",
    "\n",
    "# append:\n",
    "l1.append(\"hola\")# append añade un elemento al final de una lista previamente creada \n",
    "print(\"append\", l1)\n",
    "\n",
    "l1.append([1, 2, 3, \"cinco\"])# no obstante todo lo que se añade, se añade como un solo elemento\n",
    "print(\"append2\", l1)\n",
    "\n",
    "# insert\n",
    "l1.insert(1, \"Chao\") # insert añade un elemento en la posición que se le ordena\n",
    "print(\"insert\", l1)\n",
    "\n",
    "# extend\n",
    "l1.extend([\"w\", \"x\", \"y\", \"z\"])# extend añade un elemento al final de una lista previamente creada, este si es declarado como lista es añadido elemento por elemento a la lista en la que se quiere insertar la información \n",
    "print(\"extend\", l1)\n",
    "\n",
    "# REMOVER ELEMENTOS DE UNA LISTA\n",
    "l1.remove(l1[6]) #remueve el elemento de la lista l1 uicado en posicion 6\n",
    "print(\"remove1\", l1)\n",
    "l1.remove(\"a\") #remueve el elemento a de la lista l1\n",
    "print(\"remove2\", l1)\n",
    "del l1[0] #remueve el elemento de la lista l1 uicado en posicion 0\n",
    "print(\"del\", l1)\n",
    "\n",
    "#OPERACIONES EN LISTAS\n",
    "l3 = [32, 50]\n",
    "print(\"l2\", l2)\n",
    "print(\"l3\", l3)\n",
    "# extend de listas con suma\n",
    "l4 = l3 + l2\n",
    "print(\"haciendo l4 = l3 + l2\")\n",
    "print(\"l4\", l4)\n",
    "# copiar una lista en otra\n",
    "l5 = l4.copy()\n",
    "print(l5)\n",
    "\n",
    "# INDICE DE UN TEXTO\n",
    "l5.index(3) #indica primera posición en la que aparece el numero 3 en la lista l5\n",
    "len(l5)"
   ]
  },
  {
   "cell_type": "code",
   "execution_count": 1,
   "id": "5f441b12",
   "metadata": {},
   "outputs": [
    {
     "name": "stdout",
     "output_type": "stream",
     "text": [
      "{'Nombres:': 'Sebastián_Alejandro', 'Apellidos': 'Neto_Ibarra', 'Carrera': 'Ing_Biotecnología', 'Tema_tesis': 'Growing_kombucha_with_bismuth_salts'}\n",
      "<class 'dict'>\n",
      "{'Nombres': 'Sebastián_Alejandro', 'Apellidos': 'Neto_Ibarra', 'Carrera': 'Ing_Biotecnología', 'Tema_tesis': 'Growing_kombucha_with_bismuth_salts'}\n",
      "<class 'dict'>\n",
      "{'Nombres': 'Sebastián_Alejandro', 'Apellidos': 'Neto_Ibarra', 'Carrera': 'Ing_Biotecnología', 'Tema_tesis': 'Growing_kombucha_with_bismuth_salts'}\n",
      "<class 'dict'>\n",
      " \n",
      "dict_keys(['Nombres:', 'Apellidos', 'Carrera', 'Tema_tesis'])\n",
      "dict_values(['Sebastián_Alejandro', 'Neto_Ibarra', 'Ing_Biotecnología', 'Growing_kombucha_with_bismuth_salts'])\n"
     ]
    }
   ],
   "source": [
    "# DICCIONARIOS\n",
    "\n",
    "# 1. Creación de diccionarios por tres formas:\n",
    "\n",
    "#crear diccionario usando llaves:\n",
    "\n",
    "diccionario_1 = {\n",
    "    \"Nombres:\": \"Sebastián_Alejandro\",\n",
    "    \"Apellidos\": \"Neto_Ibarra\",\n",
    "    \"Carrera\": \"Ing_Biotecnología\",\n",
    "    \"Tema_tesis\": \"Growing_kombucha_with_bismuth_salts\"\n",
    "}\n",
    "print(diccionario_1)\n",
    "print(type(diccionario_1))\n",
    "\n",
    "#crear diccionario usando dict() - forma 1:\n",
    "diccionario_2 = dict([(\"Nombres\",\"Sebastián_Alejandro\"), (\"Apellidos\", \"Neto_Ibarra\"), (\"Carrera\", \"Ing_Biotecnología\"), (\"Tema_tesis\", \"Growing_kombucha_with_bismuth_salts\")])\n",
    "print(diccionario_2)\n",
    "print(type(diccionario_2))\n",
    "\n",
    "#crear diccionario usando dict() - forma 2:\n",
    "diccionario_3 = dict(Nombres=\"Sebastián_Alejandro\",Apellidos=\"Neto_Ibarra\",Carrera=\"Ing_Biotecnología\",Tema_tesis=\"Growing_kombucha_with_bismuth_salts\")\n",
    "print(diccionario_3)\n",
    "print(type(diccionario_3))\n",
    "\n",
    "# 2. # actualizar, añadir y reeplazar datos ver en los ejercicios\n",
    "\n",
    "# 3. Ver claves y valores de un dicionario\n",
    "\n",
    "print(\" \")\n",
    "print(diccionario_1.keys())\n",
    "print(diccionario_1.values())"
   ]
  },
  {
   "cell_type": "markdown",
   "id": "2b48db84",
   "metadata": {},
   "source": []
  },
  {
   "cell_type": "code",
   "execution_count": 10,
   "id": "c73d5b95",
   "metadata": {},
   "outputs": [
    {
     "name": "stdout",
     "output_type": "stream",
     "text": [
      "('a', 'b', 'c', 3)\n",
      "<class 'tuple'>\n",
      "3\n"
     ]
    },
    {
     "data": {
      "text/plain": [
       "{('Sebastian', 'Neto', '1050196250'), 'Biotecnología'}"
      ]
     },
     "execution_count": 10,
     "metadata": {},
     "output_type": "execute_result"
    }
   ],
   "source": [
    "#TUPLAS SON LISTAS INMUTABLES SE CREAN CON PARENTESIS\n",
    "TUPPLA_1 = (\"a\", \"b\", \"c\", 3)\n",
    "print(TUPPLA_1)\n",
    "print(type(TUPPLA_1))\n",
    "\n",
    "# Acceder a la información de Tuplas:\n",
    "print(TUPPLA_1[3])\n",
    "TUPPLA_1[:]\n",
    "\n",
    "# Crear Tupla de un elemento\n",
    "TUP_2 = (1, ) #si no se pone la \", \" no se reconoce como tupla\n",
    "type(TUP_2)\n",
    "\n",
    "# los diccionarios pueden usar tuplas\n",
    "\n",
    "diccionario_9 = {(\"Sebastian\", \"Neto\", \"1050196250\"), \"Biotecnología\"}\n",
    "diccionario_9"
   ]
  },
  {
   "cell_type": "markdown",
   "id": "d9741ace",
   "metadata": {},
   "source": [
    "## ESTRUCTURAS DE CONTROL"
   ]
  },
  {
   "cell_type": "code",
   "execution_count": 43,
   "id": "f65a553f",
   "metadata": {},
   "outputs": [
    {
     "name": "stdout",
     "output_type": "stream",
     "text": [
      "Este programa determina si un número es divisible para otro, pulse enter para continuar: \n",
      "Para ingresar decimales usar el punto como separador de cifras, Ejm: 1.712, pulse enter para continuar\n",
      "ingresa un número: 2546\n",
      "ingresa un posible divisor: 2\n",
      "el número 2 es divisor de 2546\n",
      "aplasta una tecla para salir: \n"
     ]
    },
    {
     "data": {
      "text/plain": [
       "''"
      ]
     },
     "execution_count": 43,
     "metadata": {},
     "output_type": "execute_result"
    }
   ],
   "source": [
    "# Programa para ver si un número es divisible por otro\n",
    "\n",
    "input(\"Este programa determina si un número es divisible para otro, pulse enter para continuar: \") # si no se usa j = input(), el input sale arriba del texto\n",
    "input(\"Para ingresar decimales usar el punto como separador de cifras, Ejm: 1.712, pulse enter para continuar\")\n",
    "\n",
    "g = input(\"ingresa un número: \")\n",
    "h = input(\"ingresa un posible divisor: \")\n",
    "\n",
    "if float(g) % float(h) == 0.0:\n",
    "    print(\"el número \" + h + \" \" \"es divisor de \" + g)\n",
    "else:\n",
    "    print(\"el número\", h, \" no es divisor de \", g)\n",
    "\n",
    "input(\"aplasta enter para salir: \")"
   ]
  },
  {
   "cell_type": "markdown",
   "id": "62773529",
   "metadata": {},
   "source": [
    "# Programa para poner en práctica lo aprendido:\n"
   ]
  },
  {
   "cell_type": "code",
   "execution_count": 30,
   "id": "46aefbe5",
   "metadata": {},
   "outputs": [
    {
     "name": "stdout",
     "output_type": "stream",
     "text": [
      "ingresa tu número de celular:\n",
      "0985727215\n",
      "...\n",
      "...\n",
      "Tu número de celular es:  0985727215\n",
      "Fin de la ejecución, aplasta enter para salir\n",
      "\n"
     ]
    },
    {
     "data": {
      "text/plain": [
       "''"
      ]
     },
     "execution_count": 30,
     "metadata": {},
     "output_type": "execute_result"
    }
   ],
   "source": [
    "print(\"ingresa tu número de celular:\")\n",
    "x = input()\n",
    "\n",
    "if len(x) == 10 and x.find(\"0\") == 0 and x.find(\"9\") == 1:\n",
    "    print(\"...\")\n",
    "else:\n",
    "    print(\"ingresaste un número incorrecto, te quedan 2 intentos.\")\n",
    "    print(\"ingresa tu número de celular:\")\n",
    "    x = input()\n",
    "    \n",
    "if len(x) == 10 and x.find(\"0\") == 0 and x.find(\"9\") == 1:\n",
    "    print(\"...\")\n",
    "else:\n",
    "    print(\"ingresaste un número incorrecto, te queda 1 intento.\")\n",
    "    print(\"ingresa tu número de celular:\")\n",
    "    x = input()\n",
    "    \n",
    "if len(x) == 10 and x.find(\"0\") == 0 and x.find(\"9\") == 1:\n",
    "    print(\"Tu número de celular es: \", x)\n",
    "else:\n",
    "    print(\"Error\")\n",
    "\n",
    "print (\"Fin de la ejecución, aplasta enter para salir\")\n",
    "input()"
   ]
  },
  {
   "cell_type": "markdown",
   "id": "72946eed",
   "metadata": {},
   "source": [
    "# <center><h1 style=\"background-color:lightblue\"><font color='red'>EJERCICIOS</font></h1></center>\n",
    "\n",
    "1.- Calcular los porcentajes de contenido de A, T, C, G, CG, a partir de la secuencia \n",
    "`tacctggttg atcctgccag tagtcatatg cttgtctcaa agatgaagcc`. Asegúrese de quitar los espacios vacíos intermedios."
   ]
  },
  {
   "cell_type": "code",
   "execution_count": 2,
   "id": "8b7d3224",
   "metadata": {},
   "outputs": [
    {
     "name": "stdout",
     "output_type": "stream",
     "text": [
      " \n",
      "Secuencia inicial:\n",
      " tacctggttg atcctgccag tagtcatatg cttgtctcaa agatgaagcc \n",
      "\n",
      "Secuencia divida:\n",
      "['', 'tacctggttg', 'atcctgccag', 'tagtcatatg', 'cttgtctcaa', 'agatgaagcc', '']\n",
      " \n",
      "Secuencia unida:\n",
      "tacctggttgatcctgccagtagtcatatgcttgtctcaaagatgaagcc\n",
      " \n",
      "verificando que la unión fue exitosa...\n",
      "la unión fue exitosa\n",
      " \n",
      "verificando que los porcentajes sean coherentes...\n",
      " \n",
      "La suma de los porcentajes individuales es 100, a continuacion se imprimen los resultados:\n",
      " \n",
      "El porcentaje de Adeninas es:  24.0\n",
      " \n",
      "El porcentaje de Timinas es:  30.0\n",
      " \n",
      "El porcentaje de Citosinas es:  24.0\n",
      " \n",
      "El porcentaje de Guaninas es:  22.0\n",
      " \n",
      "El porcentaje de GC es:  46.0\n",
      " \n",
      "Fin de la ejecucion\n"
     ]
    }
   ],
   "source": [
    "# Resolución:\n",
    "\n",
    "#Uniendo la secuencia\n",
    "\n",
    "a = \" tacctggttg atcctgccag tagtcatatg cttgtctcaa agatgaagcc \" # Se crea una variable tipo string que contiene la secuencia\n",
    "print(\" \")\n",
    "print(\"Secuencia inicial:\")\n",
    "print(a) # se imprime la secuencia para ver que vamos bien\n",
    "b = a.split(\" \") # con ayuda de split y el delimitador \" \" se dividen todos los fragmentos\n",
    "print(\"\")\n",
    "print(\"Secuencia divida:\")\n",
    "print(b) # se imprime la secuencia para ver que vamos bien\n",
    "c = \"\".join(b)\n",
    "print(\" \")\n",
    "print(\"Secuencia unida:\")\n",
    "print(c)# se imprime la secuencia nuevamente para ver que vamos bien\n",
    "\n",
    "# verificando que no perdimos ninguna letra\n",
    "\n",
    "d = (len(a) - a.count(\" \")) - (len(c) + c.count(\" \")) # esta para verificar que todo fue bien\n",
    "\n",
    "print(\" \")\n",
    "print(\"verificando que la unión fue exitosa...\")\n",
    "if d == 0: # si d contine el valor cero esto significa que la longitud de a quitada sus espacios es igual a la de c\n",
    "    print(\"la unión fue exitosa\")\n",
    "else:\n",
    "    print(\"la unión no fue exitosa revisar el código\")\n",
    "\n",
    "# sacando los porcentajes\n",
    "porcentaje_A = ((c.count(\"a\"))/len(c))*100\n",
    "porcentaje_T = ((c.count(\"t\"))/len(c))*100\n",
    "porcentaje_C = ((c.count(\"c\"))/len(c))*100\n",
    "porcentaje_G = ((c.count(\"g\"))/len(c))*100\n",
    "\n",
    "print(\" \")\n",
    "print(\"verificando que los porcentajes sean coherentes...\")\n",
    "print(\" \")\n",
    "if porcentaje_A + porcentaje_C + porcentaje_G + porcentaje_T == 100:\n",
    "    print(\"La suma de los porcentajes individuales es 100, a continuacion se imprimen los resultados:\")\n",
    "    print(\" \")\n",
    "    print(\"El porcentaje de Adeninas es: \", porcentaje_A)\n",
    "    print(\" \")\n",
    "    print(\"El porcentaje de Timinas es: \", porcentaje_T)\n",
    "    print(\" \")\n",
    "    print(\"El porcentaje de Citosinas es: \", porcentaje_C)\n",
    "    print(\" \")\n",
    "    print(\"El porcentaje de Guaninas es: \", porcentaje_G)\n",
    "    print(\" \")\n",
    "    print(\"El porcentaje de GC es: \", porcentaje_G + porcentaje_C)\n",
    "else:\n",
    "    print(\"La suma de los porcentajes no da 100, verificar el codigo\")\n",
    "    \n",
    "print(\" \")\n",
    "print(\"Fin de la ejecucion\")"
   ]
  },
  {
   "cell_type": "markdown",
   "id": "a4c9fbfe",
   "metadata": {},
   "source": [
    "2.- Dada la siguiente lista, eliminar las cadenas de caracteres presentes en ella y ordenarla."
   ]
  },
  {
   "cell_type": "code",
   "execution_count": 32,
   "id": "2fa0fe44",
   "metadata": {},
   "outputs": [
    {
     "name": "stdout",
     "output_type": "stream",
     "text": [
      "[0, 7, 9, 9, 10, 12, 12, 12, 14, 23]\n"
     ]
    }
   ],
   "source": [
    "lista = [9, 7, 14, 12, 10, 9, \"Hola\", 0, 23, 12, \"Alvaro\", 12]\n",
    "\n",
    "# Escribe aquí tu código\n",
    "\n",
    "lista_copia = lista.copy() # se crea una copia para no modificar la lista original \n",
    "\n",
    "del lista_copia[-2] # Se quita la penultima posición que contiene texto\n",
    "\n",
    "lista_copia.remove(\"Hola\") # Se remueve la palabra Hola\n",
    "\n",
    "lista_copia.sort() # Se ordena la lista, en este caso se decidió hacerlo de forma ascendente\n",
    "\n",
    "print (lista_copia) # Se imprime la lista sin cadenas de caracteres y ordenada"
   ]
  },
  {
   "cell_type": "markdown",
   "id": "935df42c",
   "metadata": {},
   "source": [
    "3.- Dado el siguiente diccionario\n",
    "  * Añadir el elemento \"carrera\" con el valor \"Inmmunología\".\n",
    "  * Añadir a la lista de tesistas el nombre \"Esteban\".\n",
    "  * Añadir el elemento \"organismo\" con el valor de los organismos modelo en forma de lista `[\"ratón\", ]`"
   ]
  },
  {
   "cell_type": "code",
   "execution_count": 37,
   "id": "d8541eea",
   "metadata": {},
   "outputs": [
    {
     "name": "stdout",
     "output_type": "stream",
     "text": [
      "{'tesistas': ['Juan', 'Pedro', 'Francisco'], 'tema': 'Interactome, Genómica, PeptidosAntimicrobianos', 'carrera': 'inmunología'}\n",
      "{'tesistas': ['Juan', 'Pedro', 'Francisco', 'Esteban'], 'tema': 'Interactome, Genómica, PeptidosAntimicrobianos', 'carrera': 'inmunología'}\n",
      "{'tesistas': ['Juan', 'Pedro', 'Francisco', 'Esteban'], 'tema': 'Interactome, Genómica, PeptidosAntimicrobianos', 'carrera': 'inmunología', 'organismo': ['ratón']}\n"
     ]
    }
   ],
   "source": [
    "dict1 = {\n",
    "    \"tesistas\": [\"Juan\", \"Pedro\", \"Francisco\", ],\n",
    "    \"tema\": \"Interactome, Genómica, PeptidosAntimicrobianos\",\n",
    "}\n",
    "\n",
    "# Añadir el elemento carrera con el valor inmunología\n",
    "dict1[\"carrera\"] = \"inmunología\"\n",
    "print(dict1)\n",
    "\n",
    "# Añadir a la lista tesistas el nombre Esteban\n",
    "dict1[\"tesistas\"] += [\"Esteban\"]\n",
    "print(dict1)\n",
    "\n",
    "# Añadir el elemento \"organismo\" con el valor de los organismos modelo en forma de lista [\"ratón\", ]\n",
    "dict1[\"organismo\"] = [\"ratón\", ]\n",
    "print(dict1)"
   ]
  },
  {
   "cell_type": "markdown",
   "id": "b2fa472d",
   "metadata": {},
   "source": [
    "4.- Dados los siguientes dos diccionarios, actualizar con los datos del segundo diccionario el primero."
   ]
  },
  {
   "cell_type": "code",
   "execution_count": 38,
   "id": "c9646b79",
   "metadata": {},
   "outputs": [
    {
     "data": {
      "text/plain": [
       "{'nombre': 'Oso',\n",
       " 'altura': 100,\n",
       " 'anchura': 200,\n",
       " 'localización': 'Quito',\n",
       " 'coordenadas': (78.4722475, -3.8199358)}"
      ]
     },
     "execution_count": 38,
     "metadata": {},
     "output_type": "execute_result"
    }
   ],
   "source": [
    "valores_por_defecto = {\n",
    "    \"nombre\": None,\n",
    "    \"altura\": 1000,\n",
    "    \"anchura\": 1000,\n",
    "    \"localización\": \"Quito\",\n",
    "    \"coordenadas\": (78.4722475, -3.8199358),\n",
    "}\n",
    "\n",
    "valores_actualizar = {\n",
    "    \"altura\": 100,\n",
    "    \"anchura\": 200,\n",
    "    \"nombre\": \"Oso\"\n",
    "}\n",
    "\n",
    "# Actualizar diccionario 1 con 2, para ello se usa update:\n",
    "valores_por_defecto.update(valores_actualizar)\n",
    "valores_por_defecto"
   ]
  },
  {
   "cell_type": "markdown",
   "id": "ca830a9d",
   "metadata": {},
   "source": [
    "Fin"
   ]
  },
  {
   "cell_type": "code",
   "execution_count": null,
   "id": "a862136e",
   "metadata": {},
   "outputs": [],
   "source": []
  }
 ],
 "metadata": {
  "kernelspec": {
   "display_name": "Python 3",
   "language": "python",
   "name": "python3"
  },
  "language_info": {
   "codemirror_mode": {
    "name": "ipython",
    "version": 3
   },
   "file_extension": ".py",
   "mimetype": "text/x-python",
   "name": "python",
   "nbconvert_exporter": "python",
   "pygments_lexer": "ipython3",
   "version": "3.8.8"
  }
 },
 "nbformat": 4,
 "nbformat_minor": 5
}
