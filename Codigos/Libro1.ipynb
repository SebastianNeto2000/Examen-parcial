{
 "cells": [
  {
   "cell_type": "markdown",
   "id": "11103606",
   "metadata": {},
   "source": [
    "# ***LIBRO CON DATOS BÁSICOS***"
   ]
  },
  {
   "cell_type": "markdown",
   "id": "d70ded28",
   "metadata": {},
   "source": [
    "## PRIMER PROGRAMA"
   ]
  },
  {
   "cell_type": "code",
   "execution_count": 39,
   "id": "aa951d70",
   "metadata": {},
   "outputs": [
    {
     "name": "stdout",
     "output_type": "stream",
     "text": [
      "Hola mundo\n"
     ]
    }
   ],
   "source": [
    "# Ejemplo de imprimir texto:\n",
    "print(\"Hola mundo\")"
   ]
  },
  {
   "cell_type": "markdown",
   "id": "bca47cff",
   "metadata": {},
   "source": [
    "## SEGUNDO PROGRAMA"
   ]
  },
  {
   "cell_type": "code",
   "execution_count": 83,
   "id": "96151aeb",
   "metadata": {},
   "outputs": [
    {
     "name": "stdout",
     "output_type": "stream",
     "text": [
      "El resultado de multiplicar x*y es:  12\n"
     ]
    }
   ],
   "source": [
    "# Ejemplo operaciones simples:\n",
    "x = 3\n",
    "y = 4\n",
    "z = x*y #Siempre se debe definir todas las variables antes de hacer una operacion\n",
    "print(\"El resultado de multiplicar x*y es: \", z)"
   ]
  },
  {
   "cell_type": "markdown",
   "id": "35501d4d",
   "metadata": {},
   "source": [
    "## TERCER PROGRAMA"
   ]
  },
  {
   "cell_type": "code",
   "execution_count": 84,
   "id": "cd831537",
   "metadata": {},
   "outputs": [],
   "source": [
    "# Ejemplo llamar librerías:\n",
    "\n",
    "import numpy as np\n",
    "import pandas as pd\n",
    "import matplotlib.pyplot as plt\n",
    "import seaborn as sns\n"
   ]
  },
  {
   "cell_type": "markdown",
   "id": "c6ae9f42",
   "metadata": {},
   "source": [
    "## CUARTO PROGRAMA"
   ]
  },
  {
   "cell_type": "code",
   "execution_count": 85,
   "id": "8875fc94",
   "metadata": {},
   "outputs": [
    {
     "name": "stdout",
     "output_type": "stream",
     "text": [
      "10\n",
      "Fin\n"
     ]
    }
   ],
   "source": [
    "# Ejemplo script con if-else:\n",
    "\n",
    "i = 5\n",
    "x = 2*i\n",
    "if x <= 10:\n",
    "    print (x)\n",
    "else:\n",
    "    print (\"el valor de y es: \" , y)\n",
    "\n",
    "print (\"Fin\")"
   ]
  },
  {
   "cell_type": "markdown",
   "id": "6d160c30",
   "metadata": {},
   "source": [
    "## QUINTO PROGRAMA"
   ]
  },
  {
   "cell_type": "code",
   "execution_count": 86,
   "id": "40f1f7e2",
   "metadata": {},
   "outputs": [
    {
     "name": "stdout",
     "output_type": "stream",
     "text": [
      "el resultado de la divisón entera es:  1\n",
      "el resultado de la divisón normal es:  1.5\n"
     ]
    }
   ],
   "source": [
    "# ejemplo de // para división exacta: \n",
    "v = 3//2\n",
    "print(\"el resultado de la divisón entera es: \", v)\n",
    "# ejemplo de / para división normal:\n",
    "w = 3/2\n",
    "print(\"el resultado de la divisón normal es: \", w)"
   ]
  },
  {
   "cell_type": "markdown",
   "id": "0b5f35bc",
   "metadata": {},
   "source": [
    "## SEXTO PROGRAMA "
   ]
  },
  {
   "cell_type": "code",
   "execution_count": 87,
   "id": "24543286",
   "metadata": {},
   "outputs": [
    {
     "name": "stdout",
     "output_type": "stream",
     "text": [
      "log(a)= 1.041392685158225\n"
     ]
    }
   ],
   "source": [
    "# Logaritmo necesita llamar a la librería mat y nombrarla para luego poder usarlo\n",
    "\n",
    "import math as mt\n",
    "\n",
    "a = 11\n",
    "b = 5\n",
    "\n",
    "print(\"log(a)=\", mt.log(a, 10)) # Al utilizar comandos de libreria debe ponerse nombre.comando, en este ejemplo: mt.log"
   ]
  },
  {
   "cell_type": "markdown",
   "id": "4e87addc",
   "metadata": {},
   "source": [
    "## SEPTIMO PROGRAMA"
   ]
  },
  {
   "cell_type": "code",
   "execution_count": 88,
   "id": "11c5007a",
   "metadata": {},
   "outputs": [
    {
     "name": "stdout",
     "output_type": "stream",
     "text": [
      "No somos números somos texto: yo(B)soy el texto: 1, y yo (C) soy el texto: 2.5\n"
     ]
    }
   ],
   "source": [
    "# Asignar objeto de tipo texto a una variable:\n",
    "A = \"No somos números somos texto:\"\n",
    "B = \"1\" # B contiene el texto 1, no el número 1\n",
    "C = \"2.5\" # C contiene el texto 2.5, no el número 2.5\n",
    "\n",
    "print(A, \"yo(B)soy el texto:\", B+\",\", \"y yo (C) soy el texto:\",C)"
   ]
  },
  {
   "cell_type": "markdown",
   "id": "0f017c9c",
   "metadata": {},
   "source": [
    "## OCTAVO PROGRAMA"
   ]
  },
  {
   "cell_type": "code",
   "execution_count": 68,
   "id": "1bb16e56",
   "metadata": {},
   "outputs": [
    {
     "name": "stdout",
     "output_type": "stream",
     "text": [
      "<class 'str'>\n"
     ]
    },
    {
     "data": {
      "text/plain": [
       "str"
      ]
     },
     "execution_count": 68,
     "metadata": {},
     "output_type": "execute_result"
    }
   ],
   "source": [
    "# Ver un tipo de variable\n",
    "\n",
    "B = \"1\" # B contiene el texto 1, no el número 1\n",
    "C = \"2.5\" # C contiene el texto 2.5, no el número 2.5\n",
    "\n",
    "print(type(A)) # se pone print para que se imprima, si no se pusiera solo se ejecutara (type(B))\n",
    "type(B)"
   ]
  },
  {
   "cell_type": "markdown",
   "id": "0269aef3",
   "metadata": {},
   "source": [
    "## NOVENO PROGRAMA"
   ]
  },
  {
   "cell_type": "code",
   "execution_count": 67,
   "id": "890dbbc6",
   "metadata": {},
   "outputs": [
    {
     "name": "stdout",
     "output_type": "stream",
     "text": [
      "Este es un texto \"especial\"\n"
     ]
    }
   ],
   "source": [
    "# Poner comillas en un texto\n",
    "print('Este es un texto \"especial\"')# se usan comillas simples"
   ]
  },
  {
   "cell_type": "markdown",
   "id": "95eab6aa",
   "metadata": {},
   "source": [
    "## DECIMO PROGRAMA"
   ]
  },
  {
   "cell_type": "code",
   "execution_count": 78,
   "id": "babacd5e",
   "metadata": {},
   "outputs": [
    {
     "name": "stdout",
     "output_type": "stream",
     "text": [
      "8.75\n",
      "0\n"
     ]
    }
   ],
   "source": [
    "# Cambiar tipo de variable\n",
    "A = \"-1\"\n",
    "B = \"1\" # B contiene el texto 1, no el número 1\n",
    "C = \"2.5\" # C contiene el texto -2.5, no el número 2.5\n",
    "D = int(B) # int identifica un valor entero\n",
    "E = float(C) # float identifica reales\n",
    "F = int(A)\n",
    "print((D+E)*E)\n",
    "print(F+D)"
   ]
  },
  {
   "cell_type": "markdown",
   "id": "c71b7863",
   "metadata": {},
   "source": [
    "## UNDECIMO PROGRAMA: <br> *ALGUNAS FUNCIONES PRECARGADAS*"
   ]
  },
  {
   "cell_type": "code",
   "execution_count": 79,
   "id": "b56493e2",
   "metadata": {},
   "outputs": [
    {
     "data": {
      "text/plain": [
       "100"
      ]
     },
     "execution_count": 79,
     "metadata": {},
     "output_type": "execute_result"
    }
   ],
   "source": [
    "# Valor absoluto:\n",
    "abs(-100) "
   ]
  },
  {
   "cell_type": "code",
   "execution_count": 80,
   "id": "6583bcc1",
   "metadata": {},
   "outputs": [
    {
     "data": {
      "text/plain": [
       "1000"
      ]
     },
     "execution_count": 80,
     "metadata": {},
     "output_type": "execute_result"
    }
   ],
   "source": [
    "# potenciación, ejemplo 10^3:\n",
    "pow(10,3)"
   ]
  },
  {
   "cell_type": "code",
   "execution_count": 82,
   "id": "1faf8944",
   "metadata": {},
   "outputs": [
    {
     "data": {
      "text/plain": [
       "3.1416"
      ]
     },
     "execution_count": 82,
     "metadata": {},
     "output_type": "execute_result"
    }
   ],
   "source": [
    "# Redondear un numero, ejemplo redondear 3,14159 al cuarto decimal\n",
    "round(3.14159, 4) # los decimales se escriben con punto no con coma"
   ]
  },
  {
   "cell_type": "code",
   "execution_count": 112,
   "id": "552f8076",
   "metadata": {},
   "outputs": [
    {
     "data": {
      "text/plain": [
       "14"
      ]
     },
     "execution_count": 112,
     "metadata": {},
     "output_type": "execute_result"
    }
   ],
   "source": [
    "# Longitud de un texto:\n",
    "Nombre = \"Sebastian Neto\"\n",
    "len(Nombre)# len toma en cuenta los espacios"
   ]
  },
  {
   "cell_type": "code",
   "execution_count": 146,
   "id": "b9ad9e63",
   "metadata": {},
   "outputs": [],
   "source": [
    "seq_corta = \"ATAGCCATGATCAATGA\""
   ]
  },
  {
   "cell_type": "code",
   "execution_count": 132,
   "id": "e242e92c",
   "metadata": {},
   "outputs": [
    {
     "data": {
      "text/plain": [
       "'Atagccatgatcaatga'"
      ]
     },
     "execution_count": 132,
     "metadata": {},
     "output_type": "execute_result"
    }
   ],
   "source": [
    "# Poner texto con letra inicial capital\n",
    "seq_corta.capitalize()"
   ]
  },
  {
   "cell_type": "code",
   "execution_count": 133,
   "id": "a0263d55",
   "metadata": {},
   "outputs": [
    {
     "data": {
      "text/plain": [
       "'atagccatgatcaatga'"
      ]
     },
     "execution_count": 133,
     "metadata": {},
     "output_type": "execute_result"
    }
   ],
   "source": [
    "# Poner texto en minusculas\n",
    "seq_corta.casefold()"
   ]
  },
  {
   "cell_type": "code",
   "execution_count": 142,
   "id": "7b463a1a",
   "metadata": {},
   "outputs": [
    {
     "data": {
      "text/plain": [
       "'ATAGCCATGATCAATGA'"
      ]
     },
     "execution_count": 142,
     "metadata": {},
     "output_type": "execute_result"
    }
   ],
   "source": [
    "# Poner texto en mayusculas\n",
    "seq_corta.upper()"
   ]
  },
  {
   "cell_type": "code",
   "execution_count": 149,
   "id": "49115df5",
   "metadata": {},
   "outputs": [
    {
     "data": {
      "text/plain": [
       "'TTTGCCTTGTTCTTTGT'"
      ]
     },
     "execution_count": 149,
     "metadata": {},
     "output_type": "execute_result"
    }
   ],
   "source": [
    "# Reemplazar caracter\n",
    "seq_corta.replace(\"A\",\"T\")"
   ]
  },
  {
   "cell_type": "code",
   "execution_count": 156,
   "id": "c6647e5a",
   "metadata": {},
   "outputs": [
    {
     "name": "stdout",
     "output_type": "stream",
     "text": [
      "la posición en la que usted puede encontrar la Timina en la cadena seq_corta es:  1\n"
     ]
    }
   ],
   "source": [
    "# Buscar la posición de un caracter en un texto con la función find\n",
    "k = seq_corta.find(\"T\") # Python inicia a contar en 0 (la primera posición en un texto es la posición 0)\n",
    "print(\"la posición en la que usted puede encontrar la Timina en la cadena seq_corta es: \", k)"
   ]
  },
  {
   "cell_type": "code",
   "execution_count": null,
   "id": "7b8d771e",
   "metadata": {},
   "outputs": [],
   "source": []
  },
  {
   "cell_type": "markdown",
   "id": "62773529",
   "metadata": {},
   "source": [
    "# Programa para poner en práctica lo aprendido:"
   ]
  },
  {
   "cell_type": "code",
   "execution_count": 154,
   "id": "46aefbe5",
   "metadata": {},
   "outputs": [
    {
     "name": "stdout",
     "output_type": "stream",
     "text": [
      "ingresa tu número de celular\n",
      "0882546789\n",
      "ingresaste un número incorrecto, te quedan 2 intentos.\n",
      "ingresa tu número de celular\n",
      "2\n",
      "ingresaste un número incorrecto, te queda 1 intento.\n",
      "ingresa tu número de celular\n",
      "13\n",
      "Error\n",
      "Fin de la ejecución, aplasta enter para salir\n",
      "\n"
     ]
    },
    {
     "data": {
      "text/plain": [
       "''"
      ]
     },
     "execution_count": 154,
     "metadata": {},
     "output_type": "execute_result"
    }
   ],
   "source": [
    "print(\"ingresa tu número de celular:\")\n",
    "x = input()\n",
    "\n",
    "if len(x) == 10 and x.find(\"0\") == 0 and x.find(\"9\") == 1:\n",
    "    print(\"...\")\n",
    "else:\n",
    "    print(\"ingresaste un número incorrecto, te quedan 2 intentos.\")\n",
    "    print(\"ingresa tu número de celular:\")\n",
    "    x = input()\n",
    "    \n",
    "if len(x) == 10 and x.find(\"0\") == 0 and x.find(\"9\") == 1:\n",
    "    print(\"...\")\n",
    "else:\n",
    "    print(\"ingresaste un número incorrecto, te queda 1 intento.\")\n",
    "    print(\"ingresa tu número de celular:\")\n",
    "    x = input()\n",
    "    \n",
    "if len(x) == 10 and x.find(\"0\") == 0 and x.find(\"9\") == 1:\n",
    "    print(\"Tu número de celular es: \", x)\n",
    "else:\n",
    "    print(\"Error\")\n",
    "\n",
    "print (\"Fin de la ejecución, aplasta enter para salir\")\n",
    "input()"
   ]
  },
  {
   "cell_type": "code",
   "execution_count": null,
   "id": "f13d04d0",
   "metadata": {},
   "outputs": [],
   "source": []
  }
 ],
 "metadata": {
  "kernelspec": {
   "display_name": "Python 3",
   "language": "python",
   "name": "python3"
  },
  "language_info": {
   "codemirror_mode": {
    "name": "ipython",
    "version": 3
   },
   "file_extension": ".py",
   "mimetype": "text/x-python",
   "name": "python",
   "nbconvert_exporter": "python",
   "pygments_lexer": "ipython3",
   "version": "3.8.8"
  }
 },
 "nbformat": 4,
 "nbformat_minor": 5
}
