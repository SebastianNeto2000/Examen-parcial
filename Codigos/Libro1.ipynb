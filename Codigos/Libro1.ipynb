{
 "cells": [
  {
   "cell_type": "markdown",
   "id": "11103606",
   "metadata": {},
   "source": [
    "# LIBRO DE PRUEBA"
   ]
  },
  {
   "cell_type": "code",
   "execution_count": 3,
   "id": "aa951d70",
   "metadata": {},
   "outputs": [
    {
     "name": "stdout",
     "output_type": "stream",
     "text": [
      "Hola mundo\n"
     ]
    }
   ],
   "source": [
    "print(\"Hola mundo\")"
   ]
  },
  {
   "cell_type": "markdown",
   "id": "bca47cff",
   "metadata": {},
   "source": [
    "## SEGUNDO PROGRAMA"
   ]
  },
  {
   "cell_type": "code",
   "execution_count": 4,
   "id": "96151aeb",
   "metadata": {},
   "outputs": [
    {
     "name": "stdout",
     "output_type": "stream",
     "text": [
      "El resultado de multiplicar x*y es:  12\n"
     ]
    }
   ],
   "source": [
    "x = 3\n",
    "y = 4\n",
    "z = x*y\n",
    "print(\"El resultado de multiplicar x*y es: \", z)"
   ]
  },
  {
   "cell_type": "markdown",
   "id": "b0a7705a",
   "metadata": {},
   "source": [
    "## TERCER PROGRAMA\n",
    "- Para hacer un listado usar br: <br>\n",
    "- aqui está la linea dos <br><br>\n",
    "- en la linea anterior di dos break (br)"
   ]
  },
  {
   "cell_type": "code",
   "execution_count": null,
   "id": "cd831537",
   "metadata": {},
   "outputs": [],
   "source": [
    "# Al usar un numeral podemos comentar en líneas de código\n"
   ]
  }
 ],
 "metadata": {
  "kernelspec": {
   "display_name": "Python 3",
   "language": "python",
   "name": "python3"
  },
  "language_info": {
   "codemirror_mode": {
    "name": "ipython",
    "version": 3
   },
   "file_extension": ".py",
   "mimetype": "text/x-python",
   "name": "python",
   "nbconvert_exporter": "python",
   "pygments_lexer": "ipython3",
   "version": "3.8.8"
  }
 },
 "nbformat": 4,
 "nbformat_minor": 5
}
